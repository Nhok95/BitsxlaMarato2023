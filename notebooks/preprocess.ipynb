{
 "cells": [
  {
   "cell_type": "code",
   "execution_count": 1,
   "metadata": {},
   "outputs": [],
   "source": [
    "import pandas as pd\n",
    "from pathlib import Path"
   ]
  },
  {
   "cell_type": "code",
   "execution_count": 2,
   "metadata": {},
   "outputs": [],
   "source": [
    "ILUMINA_PATH = Path('../data/Ilumina')\n",
    "ILUMINA_CLEAN_PATH = Path('../data/Ilumina/clean')\n",
    "\n",
    "NANOPORE_PATH = Path('../data/Nanopore')\n",
    "NANOPORE_CLEAN_PATH = Path('../data/Nanopore/clean')"
   ]
  },
  {
   "cell_type": "code",
   "execution_count": 3,
   "metadata": {},
   "outputs": [],
   "source": [
    "IluminaPylum = pd.read_excel(ILUMINA_PATH / \"Metadata_and_relative_abundance_of_seminal_microbiota_from_idiopathic_infertile_patients_and_donors.xlsx\",\n",
    "            sheet_name=\"Pylum-level microbiota\")\n",
    "IluminaFamily = pd.read_excel(ILUMINA_PATH / \"Metadata_and_relative_abundance_of_seminal_microbiota_from_idiopathic_infertile_patients_and_donors.xlsx\",\n",
    "            sheet_name=\"Family-level microbiota\")\n",
    "IluminaGenus = pd.read_excel(ILUMINA_PATH / \"Metadata_and_relative_abundance_of_seminal_microbiota_from_idiopathic_infertile_patients_and_donors.xlsx\",\n",
    "            sheet_name=\"Genus-level microbiota\")\n",
    "\n",
    "NanoporePylum = pd.read_excel(NANOPORE_PATH / \"Relative abundance of seminal microbiota from idiopathic infertile patients and donors using MinION sequencing.xlsx\",\n",
    "            sheet_name=\"Pylum-level microbiota\")\n",
    "NanoporeFamily = pd.read_excel(NANOPORE_PATH / \"Relative abundance of seminal microbiota from idiopathic infertile patients and donors using MinION sequencing.xlsx\",\n",
    "            sheet_name=\"Family-level microbiota\")\n",
    "NanoporeGenus = pd.read_excel(NANOPORE_PATH / \"Relative abundance of seminal microbiota from idiopathic infertile patients and donors using MinION sequencing.xlsx\",\n",
    "            sheet_name=\"Genus-level microbiota\")"
   ]
  },
  {
   "cell_type": "code",
   "execution_count": 4,
   "metadata": {},
   "outputs": [],
   "source": [
    "IluminaPylum[\"Fertil\"] = 1\n",
    "IluminaPylum.loc[(IluminaPylum.loc[:,\"Sample ID\"]).str[:3] == \"UAB\", \"Fertil\"] = 0\n",
    "\n",
    "IluminaFamily[\"Fertil\"] = 1\n",
    "IluminaFamily.loc[(IluminaPylum.loc[:,\"Sample ID\"]).str[:3] == \"UAB\", \"Fertil\"] = 0\n",
    "\n",
    "IluminaGenus[\"Fertil\"] = 1\n",
    "IluminaGenus.loc[(IluminaPylum.loc[:,\"Sample ID\"]).str[:3] == \"UAB\", \"Fertil\"] = 0\n",
    "\n",
    "NanoporePylum[\"Fertil\"] = 1\n",
    "NanoporePylum.loc[(IluminaPylum.loc[:,\"Sample ID\"]).str[:3] == \"UAB\", \"Fertil\"] = 0\n",
    "\n",
    "NanoporeFamily[\"Fertil\"] = 1\n",
    "NanoporeFamily.loc[(IluminaPylum.loc[:,\"Sample ID\"]).str[:3] == \"UAB\", \"Fertil\"] = 0\n",
    "\n",
    "NanoporeGenus[\"Fertil\"] = 1\n",
    "NanoporeGenus.loc[(IluminaPylum.loc[:,\"Sample ID\"]).str[:3] == \"UAB\", \"Fertil\"] = 0"
   ]
  },
  {
   "cell_type": "code",
   "execution_count": 6,
   "metadata": {},
   "outputs": [],
   "source": [
    "IluminaPylum.to_csv(ILUMINA_CLEAN_PATH / \"IluminaPylum.csv\", index=False, encoding='utf-8')\n",
    "IluminaFamily.to_csv(ILUMINA_CLEAN_PATH / \"IluminaFamily.csv\", index=False, encoding='utf-8')\n",
    "IluminaGenus.to_csv(ILUMINA_CLEAN_PATH / \"IluminaGenus.csv\", index=False, encoding='utf-8')\n",
    "\n",
    "NanoporePylum.to_csv(NANOPORE_CLEAN_PATH / \"NanoporePylum.csv\", index=False, encoding='utf-8')\n",
    "NanoporeFamily.to_csv(NANOPORE_CLEAN_PATH / \"NanoporeFamily.csv\", index=False, encoding='utf-8')\n",
    "NanoporeGenus.to_csv(NANOPORE_CLEAN_PATH / \"NanoporeGenus.csv\", index=False, encoding='utf-8')"
   ]
  }
 ],
 "metadata": {
  "kernelspec": {
   "display_name": ".venv",
   "language": "python",
   "name": "python3"
  },
  "language_info": {
   "codemirror_mode": {
    "name": "ipython",
    "version": 3
   },
   "file_extension": ".py",
   "mimetype": "text/x-python",
   "name": "python",
   "nbconvert_exporter": "python",
   "pygments_lexer": "ipython3",
   "version": "3.10.4"
  }
 },
 "nbformat": 4,
 "nbformat_minor": 2
}
