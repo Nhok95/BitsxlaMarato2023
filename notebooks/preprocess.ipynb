{
 "cells": [
  {
   "cell_type": "code",
   "execution_count": 14,
   "metadata": {},
   "outputs": [],
   "source": [
    "import pandas as pd\n",
    "from pathlib import Path"
   ]
  },
  {
   "cell_type": "code",
   "execution_count": 21,
   "metadata": {},
   "outputs": [
    {
     "data": {
      "text/plain": [
       "WindowsPath('../data/Ilumina')"
      ]
     },
     "execution_count": 21,
     "metadata": {},
     "output_type": "execute_result"
    }
   ],
   "source": [
    "ILUMINA_PATH = Path('../data/Ilumina')\n",
    "ILUMINA_CLEAN_PATH = Path('../data/Ilumina/clean')\n",
    "\n",
    "NANOPORE_PATH = Path('../data/Nanopore')\n",
    "NANOPORE_CLEAN_PATH = Path('../data/Nanopore/clean')"
   ]
  },
  {
   "cell_type": "code",
   "execution_count": 50,
   "metadata": {},
   "outputs": [],
   "source": [
    "IluminaPylum = pd.read_excel(ILUMINA_PATH / \"Metadata_and_relative_abundance_of_seminal_microbiota_from_idiopathic_infertile_patients_and_donors.xlsx\",\n",
    "            sheet_name=\"Pylum-level microbiota\")\n",
    "IluminaFamily = pd.read_excel(ILUMINA_PATH / \"Metadata_and_relative_abundance_of_seminal_microbiota_from_idiopathic_infertile_patients_and_donors.xlsx\",\n",
    "            sheet_name=\"Family-level microbiota\")\n",
    "IluminaGenus = pd.read_excel(ILUMINA_PATH / \"Metadata_and_relative_abundance_of_seminal_microbiota_from_idiopathic_infertile_patients_and_donors.xlsx\",\n",
    "            sheet_name=\"Genus-level microbiota\")\n",
    "\n",
    "NanoporePylum = pd.read_excel(NANOPORE_PATH / \"Relative abundance of seminal microbiota from idiopathic infertile patients and donors using MinION sequencing.xlsx\",\n",
    "            sheet_name=\"Pylum-level microbiota\")\n",
    "NanoporeFamily = pd.read_excel(NANOPORE_PATH / \"Relative abundance of seminal microbiota from idiopathic infertile patients and donors using MinION sequencing.xlsx\",\n",
    "            sheet_name=\"Family-level microbiota\")\n",
    "NanoporeGenus = pd.read_excel(NANOPORE_PATH / \"Relative abundance of seminal microbiota from idiopathic infertile patients and donors using MinION sequencing.xlsx\",\n",
    "            sheet_name=\"Genus-level microbiota\")"
   ]
  },
  {
   "cell_type": "code",
   "execution_count": 56,
   "metadata": {},
   "outputs": [],
   "source": [
    "IluminaPylum[\"Fertil\"] = 1\n",
    "IluminaPylum.loc[(IluminaPylum.loc[:,\"Sample ID\"]).str[:3] == \"UAB\", \"Fertil\"] = 0\n",
    "\n",
    "IluminaFamily[\"Fertil\"] = 1\n",
    "IluminaFamily.loc[(IluminaPylum.loc[:,\"Sample ID\"]).str[:3] == \"UAB\", \"Fertil\"] = 0\n",
    "\n",
    "IluminaGenus[\"Fertil\"] = 1\n",
    "IluminaGenus.loc[(IluminaPylum.loc[:,\"Sample ID\"]).str[:3] == \"UAB\", \"Fertil\"] = 0\n",
    "\n",
    "NanoporePylum[\"Fertil\"] = 1\n",
    "NanoporePylum.loc[(IluminaPylum.loc[:,\"Sample ID\"]).str[:3] == \"UAB\", \"Fertil\"] = 0\n",
    "\n",
    "NanoporeFamily[\"Fertil\"] = 1\n",
    "NanoporeFamily.loc[(IluminaPylum.loc[:,\"Sample ID\"]).str[:3] == \"UAB\", \"Fertil\"] = 0\n",
    "\n",
    "NanoporeGenus[\"Fertil\"] = 1\n",
    "NanoporeGenus.loc[(IluminaPylum.loc[:,\"Sample ID\"]).str[:3] == \"UAB\", \"Fertil\"] = 0"
   ]
  },
  {
   "cell_type": "code",
   "execution_count": 1,
   "metadata": {},
   "outputs": [
    {
     "ename": "NameError",
     "evalue": "name 'IluminaPylum' is not defined",
     "output_type": "error",
     "traceback": [
      "\u001b[1;31m---------------------------------------------------------------------------\u001b[0m",
      "\u001b[1;31mNameError\u001b[0m                                 Traceback (most recent call last)",
      "Cell \u001b[1;32mIn[1], line 1\u001b[0m\n\u001b[1;32m----> 1\u001b[0m \u001b[43mIluminaPylum\u001b[49m\u001b[38;5;241m.\u001b[39mto_csv(ILUMINA_CLEAN_PATH \u001b[38;5;241m/\u001b[39m \u001b[38;5;124m\"\u001b[39m\u001b[38;5;124mIluminaPylum.csv\u001b[39m\u001b[38;5;124m\"\u001b[39m)\n",
      "\u001b[1;31mNameError\u001b[0m: name 'IluminaPylum' is not defined"
     ]
    }
   ],
   "source": [
    "IluminaPylum.to_csv(ILUMINA_CLEAN_PATH / \"IluminaPylum.csv\")"
   ]
  }
 ],
 "metadata": {
  "kernelspec": {
   "display_name": ".venv",
   "language": "python",
   "name": "python3"
  },
  "language_info": {
   "codemirror_mode": {
    "name": "ipython",
    "version": 3
   },
   "file_extension": ".py",
   "mimetype": "text/x-python",
   "name": "python",
   "nbconvert_exporter": "python",
   "pygments_lexer": "ipython3",
   "version": "3.10.4"
  }
 },
 "nbformat": 4,
 "nbformat_minor": 2
}
